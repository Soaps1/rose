{
 "cells": [
  {
   "cell_type": "code",
   "execution_count": 2,
   "id": "a46f1faf-b5a3-487d-b121-09f8b1ef5e34",
   "metadata": {},
   "outputs": [],
   "source": [
    "from langchain_openai import ChatOpenAI\n",
    "from langchain.prompts import ChatPromptTemplate"
   ]
  },
  {
   "cell_type": "code",
   "execution_count": 3,
   "id": "5fb6ae11-da95-453e-8e23-617acad90056",
   "metadata": {},
   "outputs": [],
   "source": [
    "import os, getpass\n",
    "from dotenv import load_dotenv\n",
    "\n",
    "load_dotenv()\n",
    "\n",
    "OPENAI_API_KEY = os.environ[\"OPENAI_API_KEY\"]\n",
    "PINECONE_API_KEY = os.environ[\"PINECONE_API_KEY\"]"
   ]
  },
  {
   "cell_type": "code",
   "execution_count": 4,
   "id": "bf30065e-2b72-46f4-8b15-feb2e51d895e",
   "metadata": {},
   "outputs": [],
   "source": [
    "template = \"\"\"Answer the question based only on the following context:\n",
    "{context}\n",
    "\n",
    "Question: {question}\n",
    "\"\"\"\n",
    "\n",
    "prompt=ChatPromptTemplate.from_template(template)"
   ]
  },
  {
   "cell_type": "code",
   "execution_count": 5,
   "id": "f2fc87a8-1090-4ee1-9899-4826dc220387",
   "metadata": {},
   "outputs": [],
   "source": [
    "llm=ChatOpenAI(model_name=\"gpt-3.5-turbo\",temperature=1)"
   ]
  },
  {
   "cell_type": "code",
   "execution_count": 42,
   "id": "d65472c2-36a8-47d4-bf86-61e31912060c",
   "metadata": {},
   "outputs": [],
   "source": [
    "from langchain_openai import OpenAIEmbeddings\n",
    "from langchain_pinecone import PineconeVectorStore\n",
    "\n",
    "model_name = 'text-embedding-ada-002'  \n",
    "embeddings = OpenAIEmbeddings(  \n",
    "    model=model_name,  \n",
    "    openai_api_key=OPENAI_API_KEY\n",
    ")\n",
    "\n",
    "vectorstore=PineconeVectorStore(index_name=\"documents\",embedding=embeddings,namespace='schalk-burger')\n",
    "retriever = vectorstore.as_retriever()"
   ]
  },
  {
   "cell_type": "code",
   "execution_count": 43,
   "id": "478e4cce-e75f-4f20-b299-94d3df3f779a",
   "metadata": {},
   "outputs": [],
   "source": [
    "from langchain_core.output_parsers import StrOutputParser\n",
    "from langchain_core.runnables import RunnablePassthrough"
   ]
  },
  {
   "cell_type": "code",
   "execution_count": 54,
   "id": "71d41497-857d-4bff-a5a2-d46ff5edd8c2",
   "metadata": {},
   "outputs": [],
   "source": [
    "rag_chain = (\n",
    "    {\"context\": retriever, \"question\": RunnablePassthrough()}\n",
    "    | prompt\n",
    "    | llm\n",
    "    | StrOutputParser()\n",
    ")"
   ]
  },
  {
   "cell_type": "code",
   "execution_count": 55,
   "id": "945c96fc-722b-4c34-bf06-ef17ff8b5648",
   "metadata": {},
   "outputs": [
    {
     "data": {
      "text/plain": [
       "'Schalk is currently attending Columbia Business School in New York pursuing an MBA in Applied Mathematical Statistics & Data Science with an expected graduation date of Spring 2025.'"
      ]
     },
     "execution_count": 55,
     "metadata": {},
     "output_type": "execute_result"
    }
   ],
   "source": [
    "rag_chain.invoke(\"Where is Schalk now?\")"
   ]
  },
  {
   "cell_type": "code",
   "execution_count": 53,
   "id": "ba95a483-a929-41d2-9309-c20b8a897ca0",
   "metadata": {},
   "outputs": [
    {
     "data": {
      "text/plain": [
       "[Document(page_content='SCHALK BURGER  \\n929 325 9282 , sburger25@gsb.columbia.edu  \\n \\nEDUCATION  \\n \\nCOLUMBIA BUSINESS SCHOOL  New York, NY  \\nMBA , Applied Mathematical Statistics & Data Science  Spring 2025  \\nLeadership:  Cluster Chairperson (one of 9 students out of 900 selected for this role)  \\nMember:  AI Club, Venture Capital Club, & Golf Club  \\n  \\nSTELLENBOSCH UNIVERSITY  Stellenbosch, South Africa', metadata={'page': 0.0, 'source': 'C:\\\\Users\\\\Schalk\\\\OneDrive - Columbia Business School\\\\2024\\\\Recruiting\\\\Schalk Burger Resume.pdf'}),\n",
       " Document(page_content='STELLENBOSCH UNIVERSITY  Stellenbosch, South Africa  \\nBachelor of Commerce , Actuarial Science & Mathematical Statistics  2013 - 2017  \\nMinor:  Advanced Linear Algebra, Corporate Finance, & Data Science  \\nHonors:  Graduated with Honors (awarded to 15% of graduating class)   \\nLeadership:  VP of Finance for the University Student Committee  \\n  \\nEXPERIENCE', metadata={'page': 0.0, 'source': 'C:\\\\Users\\\\Schalk\\\\OneDrive - Columbia Business School\\\\2024\\\\Recruiting\\\\Schalk Burger Resume.pdf'}),\n",
       " Document(page_content='Languages : Afrikaans (fluent) & French (basic comprehension)  \\nInterests:  Organizes social golf league, builds 10K+ piece LEGO sets, writes on Medium, and enjoys stand -up comedy', metadata={'page': 0.0, 'source': 'C:\\\\Users\\\\Schalk\\\\OneDrive - Columbia Business School\\\\2024\\\\Recruiting\\\\Schalk Burger Resume.pdf'})]"
      ]
     },
     "execution_count": 53,
     "metadata": {},
     "output_type": "execute_result"
    }
   ],
   "source": [
    "from langchain.retrievers.multi_query import MultiQueryRetriever\n",
    "\n",
    "query = \"where is Schalk now?\"\n",
    "\n",
    "vectorstore.similarity_search(\n",
    "    query,  # our search query\n",
    "    k=3  # return 3 most relevant docs\n",
    ")"
   ]
  },
  {
   "cell_type": "code",
   "execution_count": 51,
   "id": "a3ddeb2a-369a-4804-9df9-348ff9712193",
   "metadata": {},
   "outputs": [
    {
     "data": {
      "text/plain": [
       "[Document(page_content='SCHALK BURGER  \\n929 325 9282 , sburger25@gsb.columbia.edu  \\n \\nEDUCATION  \\n \\nCOLUMBIA BUSINESS SCHOOL  New York, NY  \\nMBA , Applied Mathematical Statistics & Data Science  Spring 2025  \\nLeadership:  Cluster Chairperson (one of 9 students out of 900 selected for this role)  \\nMember:  AI Club, Venture Capital Club, & Golf Club  \\n  \\nSTELLENBOSCH UNIVERSITY  Stellenbosch, South Africa', metadata={'page': 0.0, 'source': 'C:\\\\Users\\\\Schalk\\\\OneDrive - Columbia Business School\\\\2024\\\\Recruiting\\\\Schalk Burger Resume.pdf'}),\n",
       " Document(page_content='STELLENBOSCH UNIVERSITY  Stellenbosch, South Africa  \\nBachelor of Commerce , Actuarial Science & Mathematical Statistics  2013 - 2017  \\nMinor:  Advanced Linear Algebra, Corporate Finance, & Data Science  \\nHonors:  Graduated with Honors (awarded to 15% of graduating class)   \\nLeadership:  VP of Finance for the University Student Committee  \\n  \\nEXPERIENCE', metadata={'page': 0.0, 'source': 'C:\\\\Users\\\\Schalk\\\\OneDrive - Columbia Business School\\\\2024\\\\Recruiting\\\\Schalk Burger Resume.pdf'}),\n",
       " Document(page_content='Languages : Afrikaans (fluent) & French (basic comprehension)  \\nInterests:  Organizes social golf league, builds 10K+ piece LEGO sets, writes on Medium, and enjoys stand -up comedy', metadata={'page': 0.0, 'source': 'C:\\\\Users\\\\Schalk\\\\OneDrive - Columbia Business School\\\\2024\\\\Recruiting\\\\Schalk Burger Resume.pdf'}),\n",
       " Document(page_content='ADDITIONAL INFORMATION  \\n \\nDesignation:  Associate Actuary of the Actuarial Society of South Africa  \\nCoding Skills:  Advanced Python and SQL  \\nExecutive Education:  Wharton Private Equity and Venture Capital program  \\nVolunteer Work:  7-year tenure as a trustee of a local Stellenbosch University Bursary fund  \\nLanguages : Afrikaans (fluent) & French (basic comprehension)', metadata={'page': 0.0, 'source': 'C:\\\\Users\\\\Schalk\\\\OneDrive - Columbia Business School\\\\2024\\\\Recruiting\\\\Schalk Burger Resume.pdf'})]"
      ]
     },
     "execution_count": 51,
     "metadata": {},
     "output_type": "execute_result"
    }
   ],
   "source": [
    "docs"
   ]
  }
 ],
 "metadata": {
  "kernelspec": {
   "display_name": "Python 3 (ipykernel)",
   "language": "python",
   "name": "python3"
  },
  "language_info": {
   "codemirror_mode": {
    "name": "ipython",
    "version": 3
   },
   "file_extension": ".py",
   "mimetype": "text/x-python",
   "name": "python",
   "nbconvert_exporter": "python",
   "pygments_lexer": "ipython3",
   "version": "3.11.9"
  }
 },
 "nbformat": 4,
 "nbformat_minor": 5
}
